{
 "cells": [
  {
   "cell_type": "markdown",
   "metadata": {},
   "source": [
    "# Lesson 4\n",
    "\n",
    "## Challenge:  Evaluate an experiement analysis\n",
    "\n",
    "### Situation:  The Sith Lords are concerned that their recruiting slogan, \"Give In to Your Anger,\" isn't very effective. Darth Vader develops an alternative slogan, \"Together We Can Rule the Galaxy.\" They compare the slogans on two groups of 50 captured droids each. In one group, Emperor Palpatine delivers the \"Anger\" slogan. In the other, Darth Vader presents the \"Together\" slogan. 20 droids convert to the Dark Side after hearing Palpatine's slogan, while only 5 droids convert after hearing Vader's. The Sith's data scientist concludes that \"Anger\" is a more effective slogan and should continue to be used.\n",
    " * This is an example of selection bias.  The analysis is being done on a group that are in the same circumstance.  They are all droids who were captured.  The results are skewed because the captured droids are more prone to be experiencing the emotion of anger/frustration which would make them gravitate more towards Palpatine's message. \n",
    " * In order to correct this flaw, a larger and more diverse sample set would need to be included.  Do not only do this among the captured droids.  Include workers on the Death Star, different members of the population, etc.  \n",
    " \n",
    "### Situation:  In the past, the Jedi have had difficulty with public relations. They send two envoys, Jar Jar Binks and Mace Windu, to four friendly and four unfriendly planets respectively, with the goal of promoting favorable feelings toward the Jedi. Upon their return, the envoys learn that Jar Jar was much more effective than Windu: Over 75% of the people surveyed said their attitudes had become more favorable after speaking with Jar Jar, while only 65% said their attitudes had become more favorable after speaking with Windu. This makes Windu angry, because he is sure that he had a better success rate than Jar Jar on every planet. The Jedi choose Jar Jar to be their representative in the future.\n",
    "* This is an example of setting bias.  The sample is not even as the planets are either freiendly or unfriendly.  If Jar Jar had the friendly planets, then it would show him with a better success rate.  This does not mean that Mace was unsuccessful, it shows that the sampling set is not even and not a good representation.\n",
    "* In order to correct this flaw, first identify your metrics and what you are trying to do via an A/B test.  Then work through A/A testing to ensure that bias is not happening.  Give Mace and Jar Jar 2 friendly and 2 unfriendly planets to make both more even.\n",
    "\n",
    "### Situation:  A company with work sites in five different countries has sent you data on employee satisfaction rates for workers in Human Resources and workers in Information Technology. Most HR workers are concentrated in three of the countries, while IT workers are equally distributed across worksites. The company requests a report on satisfaction for each job type. You calculate average job satisfaction for HR and for IT and present the report.\n",
    "* This is an example of Simpson's Paradox.  It could be assumed that HR workers based in 3 of the 5 countries, might provide a score different than the other 2 countries.  Averaging these scores knowing that the workforce is spread among different countries is not an accurate way to show correct averages.\n",
    "* Work through randomization.  Separate the results by HR and IT and do not include by country.  There is not an even representation of either group in all 5 - some countries might have more HR than IT, etc.\n",
    "\n",
    "### Situation:  When people install the Happy Days Fitness Tracker app, they are asked to \"opt in\" to a data collection scheme where their level of physical activity data is automatically sent to the company for product research purposes. During your interview with the company, they tell you that the app is very effective because after installing the app, the data show that people's activity levels rise steadily.\n",
    "* They are assuming that people are more active because they have installed the app.  However, the activity levels could be a result of people knowing that their activity levels are being monitored and thus feel more pressure to be active.  \n",
    "* Data collection or the possibility of data collection should be made to the user before they install the app.  Asking a user to \"opt-in\" to it after the fact is not creating a true sample set.\n",
    "\n",
    "### Situation:  To prevent cheating, a teacher writes three versions of a test. She stacks the three versions together, first all copies of Version A, then all copies of Version B, then all copies of Version C. As students arrive for the exam, each student takes a test. When grading the test, the teacher finds that students who took Version B scored higher than students who took either Version A or Version C. She concludes from this that Version B is easier, and discards it.\n",
    "* Just because the teacher has 3 different versions of the test does not mean that they are using the same question and answers and just putting them in different orders.  If the tests have different questions and answers, then there is always the variable that the results could be different.  Also, you are letting the students take a version of the test when they enter.  What if more students take version A than B or C?  Your sample is flawed.\n",
    "* Create an equal amount of test versions and hand out to students when they arrive - making sure that Versions A, B and C are equally distributed.  "
   ]
  },
  {
   "cell_type": "code",
   "execution_count": null,
   "metadata": {},
   "outputs": [],
   "source": []
  }
 ],
 "metadata": {
  "kernelspec": {
   "display_name": "Python 3",
   "language": "python",
   "name": "python3"
  },
  "language_info": {
   "codemirror_mode": {
    "name": "ipython",
    "version": 3
   },
   "file_extension": ".py",
   "mimetype": "text/x-python",
   "name": "python",
   "nbconvert_exporter": "python",
   "pygments_lexer": "ipython3",
   "version": "3.7.0"
  }
 },
 "nbformat": 4,
 "nbformat_minor": 2
}
